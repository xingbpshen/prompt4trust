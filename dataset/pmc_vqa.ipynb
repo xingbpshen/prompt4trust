{
 "cells": [
  {
   "cell_type": "markdown",
   "id": "dcb3ea96",
   "metadata": {},
   "source": [
    "### Check Performance of Qwen VQA model, zero-shot ###"
   ]
  },
  {
   "cell_type": "code",
   "execution_count": null,
   "id": "1c467f0e",
   "metadata": {},
   "outputs": [],
   "source": [
    "import os\n",
    "import re\n",
    "import random\n",
    "from PIL import Image\n",
    "from tqdm import tqdm\n",
    "import torch\n",
    "import pandas as pd \n",
    "from transformers import Qwen2VLForConditionalGeneration, AutoProcessor"
   ]
  },
  {
   "cell_type": "code",
   "execution_count": null,
   "id": "8e474b1a",
   "metadata": {},
   "outputs": [],
   "source": [
    "def parse_answer_prob(text):\n",
    "    \"\"\"Extracts predicted answer letter and confidence score from model output.\"\"\"\n",
    "    answer_match = re.search(r\"answer is\\s+([A-D])\", text, re.IGNORECASE)\n",
    "    confidence_match = re.search(r\"confidence\\s+(\\d{1,3})\", text, re.IGNORECASE)\n",
    "    if answer_match and confidence_match:\n",
    "        pred = answer_match.group(1).upper()\n",
    "        confidence = min(float(confidence_match.group(1)), 100.0) / 100\n",
    "        return pred, confidence\n",
    "    return None, 0.0\n",
    "\n",
    "def get_answer_letter_from_text(answer_text, choices):\n",
    "    answer_text = answer_text.strip().lower()\n",
    "    for choice in choices:\n",
    "        letter, choice_text = choice.split(\":\", 1)\n",
    "        if choice_text.strip().lower() == answer_text:\n",
    "            return letter.strip()\n",
    "    return None \n",
    "\n",
    "def build_messages(image, question, choices, answer_text):\n",
    "    \"\"\"Builds multimodal messages for the processor.\"\"\"\n",
    "    return [\n",
    "        {\n",
    "            \"role\": \"user\",\n",
    "            \"content\": [\n",
    "                {\n",
    "                    \"type\": \"image\",\n",
    "                    \"image\": image\n",
    "                },\n",
    "                {\n",
    "                    \"type\": \"text\",\n",
    "                    \"text\": (\n",
    "                        \"You are answering a multiple-choice question with four options (A, B, C, or D). \"\n",
    "                        \"Clearly state your final answer and confidence in the following format only:\\n\\n\"\n",
    "                        \"'In conclusion, the answer is {LETTER} with confidence {CONFIDENCE}.'\\n\\n\"\n",
    "                        \"Replace {LETTER} with one of A, B, C, or D, and {CONFIDENCE} with a number between 0 and 100.\\n\"\n",
    "                        \"After giving the answer, explain your reasoning based on the image and the question.\"\n",
    "                    )\n",
    "                },\n",
    "                {\n",
    "                    \"type\": \"text\",\n",
    "                    \"text\": f\"{question}\\n\\nOptions:\\n\" + '\\n'.join(choices) + f\"\\n\\nAnswer: {answer_text}\"\n",
    "                }\n",
    "            ]\n",
    "        }\n",
    "    ]\n",
    "\n",
    "def evaluate_model_on_samples(model, processor, train_df, img_dir, device=\"cuda\", num_samples=100):\n",
    "    correct = 0\n",
    "    total_conf = 0\n",
    "    count = 0\n",
    "\n",
    "    sampled_indices = random.sample(range(len(train_df)), num_samples)\n",
    "\n",
    "    for idx in tqdm(sampled_indices):\n",
    "        try:\n",
    "            fig_path = train_df.loc[idx, 'Figure_path']\n",
    "            full_path = os.path.join(img_dir, fig_path)\n",
    "            image = Image.open(full_path).convert(\"RGB\")\n",
    "            question = train_df.loc[idx, 'Question']\n",
    "            answer_text = train_df.loc[idx, 'Answer']\n",
    "            choices = [\n",
    "                train_df.loc[idx, 'Choice A'],\n",
    "                train_df.loc[idx, 'Choice B'],\n",
    "                train_df.loc[idx, 'Choice C'],\n",
    "                train_df.loc[idx, 'Choice D']\n",
    "            ]\n",
    "\n",
    "            true_letter = get_answer_letter_from_text(answer_text, choices)\n",
    "            if not true_letter:\n",
    "                continue  \n",
    "            messages = build_messages(image, question, choices, answer_text)\n",
    "            text_prompt = processor.apply_chat_template(messages, add_generation_prompt=True)\n",
    "\n",
    "            inputs = processor(\n",
    "                text=[text_prompt],\n",
    "                images=[image],\n",
    "                padding=True,\n",
    "                return_tensors=\"pt\"\n",
    "            )\n",
    "            inputs = inputs.to(device) \n",
    "\n",
    "            # DO NOT move the model here — model is already on correct device(s) via device_map=\"auto\"\n",
    "            output_ids = model.generate(**inputs, max_new_tokens=1024)\n",
    "\n",
    "            output_texts = processor.batch_decode(output_ids, skip_special_tokens=True)\n",
    "    \n",
    "            pred, conf = parse_answer_prob(output_texts[0])\n",
    "\n",
    "            if pred and pred.upper() == true_letter.upper():\n",
    "                correct += 1\n",
    "\n",
    "            total_conf += conf\n",
    "            count += 1\n",
    "\n",
    "        except Exception as e:\n",
    "            print(f\"Error at idx {idx}: {e}\")\n",
    "            continue\n",
    "\n",
    "    accuracy = correct / count if count > 0 else 0\n",
    "    avg_confidence = total_conf / count if count > 0 else 0\n",
    "    print(f\"\\nEvaluated {count} examples.\")\n",
    "    print(f\"Accuracy: {accuracy:.3f}\")\n",
    "    print(f\"Average Confidence: {avg_confidence:.3f}\")\n",
    "\n",
    "    return accuracy, avg_confidence\n"
   ]
  },
  {
   "cell_type": "code",
   "execution_count": 31,
   "id": "e3d9401c",
   "metadata": {},
   "outputs": [
    {
     "name": "stderr",
     "output_type": "stream",
     "text": [
      "Loading checkpoint shards: 100%|██████████| 2/2 [00:01<00:00,  1.74it/s]\n"
     ]
    }
   ],
   "source": [
    "img_dir = '/usr/local/faststorage/datasets/PMC-VQA/images/' #TODO\n",
    "train_csv_path = '/usr/local/faststorage/datasets/PMC-VQA/train.csv' #TODO\n",
    "\n",
    "train_df = pd.read_csv(train_csv_path)\n",
    "\n",
    "# Setup (DO NOT do model.to(device))\n",
    "model = Qwen2VLForConditionalGeneration.from_pretrained(\n",
    "    \"Qwen/Qwen2-VL-2B-Instruct\",\n",
    "    torch_dtype=\"auto\",\n",
    "    device_map=\"auto\"\n",
    ")\n",
    "processor = AutoProcessor.from_pretrained(\"Qwen/Qwen2-VL-2B-Instruct\")\n",
    "\n",
    "device = torch.device(\"cuda:0\")  #TODO\n"
   ]
  },
  {
   "cell_type": "code",
   "execution_count": 30,
   "id": "0e952e29",
   "metadata": {},
   "outputs": [
    {
     "name": "stderr",
     "output_type": "stream",
     "text": [
      "100%|██████████| 100/100 [04:47<00:00,  2.88s/it]"
     ]
    },
    {
     "name": "stdout",
     "output_type": "stream",
     "text": [
      "\n",
      "Evaluated 100 examples.\n",
      "Accuracy: 0.720\n",
      "Average Confidence: 0.924\n"
     ]
    },
    {
     "name": "stderr",
     "output_type": "stream",
     "text": [
      "\n"
     ]
    }
   ],
   "source": [
    "accuracy, avg_conf = evaluate_model_on_samples(model = model, processor = processor, train_df = train_df, img_dir = img_dir , num_samples=100)"
   ]
  }
 ],
 "metadata": {
  "kernelspec": {
   "display_name": "vccrl-venv",
   "language": "python",
   "name": "python3"
  },
  "language_info": {
   "codemirror_mode": {
    "name": "ipython",
    "version": 3
   },
   "file_extension": ".py",
   "mimetype": "text/x-python",
   "name": "python",
   "nbconvert_exporter": "python",
   "pygments_lexer": "ipython3",
   "version": "3.10.13"
  }
 },
 "nbformat": 4,
 "nbformat_minor": 5
}
